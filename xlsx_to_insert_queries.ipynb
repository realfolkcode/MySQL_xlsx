{
  "nbformat": 4,
  "nbformat_minor": 0,
  "metadata": {
    "colab": {
      "name": "xlsx_to_insert_queries.ipynb",
      "provenance": [],
      "collapsed_sections": []
    },
    "kernelspec": {
      "name": "python3",
      "display_name": "Python 3"
    }
  },
  "cells": [
    {
      "cell_type": "code",
      "metadata": {
        "id": "4bDnoxlWYTVa",
        "colab_type": "code",
        "colab": {}
      },
      "source": [
        "import pandas as pd"
      ],
      "execution_count": 0,
      "outputs": []
    },
    {
      "cell_type": "code",
      "metadata": {
        "id": "aUlccj2WZ5Hv",
        "colab_type": "code",
        "colab": {}
      },
      "source": [
        "def xlsx_to_insert_queries(filename, tablename, fmt):\n",
        "    \"\"\"Converts .xlsx data to MySQL insert queries.\n",
        "\n",
        "    Parameters\n",
        "    ----------\n",
        "    filename : str\n",
        "    tablename : str\n",
        "    fmt : dict\n",
        "          A dictionary that contains all field names as keys. True iff double quotes are required.\n",
        "    \n",
        "    Returns\n",
        "    -------\n",
        "    None\n",
        "    \"\"\"\n",
        "\n",
        "    df = pd.read_excel(filename)\n",
        "    df.update('\"' + df[dict(filter(lambda elem: elem[1] == True, fmt.items()))].astype(str) + '\"')\n",
        "    for i in range(len(df)):\n",
        "        print('insert into ', tablename, ' (', sep='', end='')\n",
        "        print(*list(fmt), sep=', ', end=') values (')\n",
        "        print(*list(df.iloc[i]), sep=', ', end=');\\n')\n",
        "    return"
      ],
      "execution_count": 0,
      "outputs": []
    },
    {
      "cell_type": "markdown",
      "metadata": {
        "id": "ll1YmNL5p9s2",
        "colab_type": "text"
      },
      "source": [
        "Данная функция выводит данные из .xlsx в качестве insert запросов MySQL. Пример использования:\n",
        "\n",
        "Сначала посмотрим на формат самих данных."
      ]
    },
    {
      "cell_type": "code",
      "metadata": {
        "id": "k5ijSKgAYVky",
        "colab_type": "code",
        "outputId": "8768a00e-3ccc-4d78-e69a-80e9565e5de7",
        "colab": {
          "resources": {
            "http://localhost:8080/nbextensions/google.colab/files.js": {
              "data": "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",
              "ok": true,
              "headers": [
                [
                  "content-type",
                  "application/javascript"
                ]
              ],
              "status": 200,
              "status_text": ""
            }
          },
          "base_uri": "https://localhost:8080/",
          "height": 244
        }
      },
      "source": [
        "from google.colab import files\n",
        "\n",
        "uploaded = files.upload()\n",
        "\n",
        "for fn in uploaded.keys():\n",
        "  print('User uploaded file \"{name}\" with length {length} bytes'.format(\n",
        "      name=fn, length=len(uploaded[fn])))"
      ],
      "execution_count": 3,
      "outputs": [
        {
          "output_type": "display_data",
          "data": {
            "text/html": [
              "\n",
              "     <input type=\"file\" id=\"files-25ebb9b6-f83a-49cb-b142-cd98a6c3aeab\" name=\"files[]\" multiple disabled />\n",
              "     <output id=\"result-25ebb9b6-f83a-49cb-b142-cd98a6c3aeab\">\n",
              "      Upload widget is only available when the cell has been executed in the\n",
              "      current browser session. Please rerun this cell to enable.\n",
              "      </output>\n",
              "      <script src=\"/nbextensions/google.colab/files.js\"></script> "
            ],
            "text/plain": [
              "<IPython.core.display.HTML object>"
            ]
          },
          "metadata": {
            "tags": []
          }
        },
        {
          "output_type": "stream",
          "text": [
            "Saving j.xlsx to j.xlsx\n",
            "Saving p.xlsx to p.xlsx\n",
            "Saving s.xlsx to s.xlsx\n",
            "Saving spj.xlsx to spj.xlsx\n",
            "User uploaded file \"j.xlsx\" with length 9451 bytes\n",
            "User uploaded file \"p.xlsx\" with length 9474 bytes\n",
            "User uploaded file \"s.xlsx\" with length 10392 bytes\n",
            "User uploaded file \"spj.xlsx\" with length 9791 bytes\n"
          ],
          "name": "stdout"
        }
      ]
    },
    {
      "cell_type": "code",
      "metadata": {
        "id": "a81ImsYvZKuP",
        "colab_type": "code",
        "colab": {}
      },
      "source": [
        "s = pd.read_excel(\"s.xlsx\")\n",
        "p = pd.read_excel(\"p.xlsx\")\n",
        "j = pd.read_excel(\"j.xlsx\")\n",
        "spj = pd.read_excel(\"spj.xlsx\")"
      ],
      "execution_count": 0,
      "outputs": []
    },
    {
      "cell_type": "code",
      "metadata": {
        "id": "ZP-dOdxSFI2Q",
        "colab_type": "code",
        "outputId": "d96f025d-0e81-4195-aa51-2e6df5a2a6d3",
        "colab": {
          "base_uri": "https://localhost:8080/",
          "height": 204
        }
      },
      "source": [
        "s"
      ],
      "execution_count": 5,
      "outputs": [
        {
          "output_type": "execute_result",
          "data": {
            "text/html": [
              "<div>\n",
              "<style scoped>\n",
              "    .dataframe tbody tr th:only-of-type {\n",
              "        vertical-align: middle;\n",
              "    }\n",
              "\n",
              "    .dataframe tbody tr th {\n",
              "        vertical-align: top;\n",
              "    }\n",
              "\n",
              "    .dataframe thead th {\n",
              "        text-align: right;\n",
              "    }\n",
              "</style>\n",
              "<table border=\"1\" class=\"dataframe\">\n",
              "  <thead>\n",
              "    <tr style=\"text-align: right;\">\n",
              "      <th></th>\n",
              "      <th>Номер_поставщика</th>\n",
              "      <th>Фамилия</th>\n",
              "      <th>Рейтинг</th>\n",
              "      <th>Город</th>\n",
              "    </tr>\n",
              "  </thead>\n",
              "  <tbody>\n",
              "    <tr>\n",
              "      <th>0</th>\n",
              "      <td>S1</td>\n",
              "      <td>Смит</td>\n",
              "      <td>20</td>\n",
              "      <td>Лондон</td>\n",
              "    </tr>\n",
              "    <tr>\n",
              "      <th>1</th>\n",
              "      <td>S2</td>\n",
              "      <td>Джонс</td>\n",
              "      <td>10</td>\n",
              "      <td>Париж</td>\n",
              "    </tr>\n",
              "    <tr>\n",
              "      <th>2</th>\n",
              "      <td>S3</td>\n",
              "      <td>Блейк</td>\n",
              "      <td>30</td>\n",
              "      <td>Париж</td>\n",
              "    </tr>\n",
              "    <tr>\n",
              "      <th>3</th>\n",
              "      <td>S4</td>\n",
              "      <td>Кларк</td>\n",
              "      <td>20</td>\n",
              "      <td>Лондон</td>\n",
              "    </tr>\n",
              "    <tr>\n",
              "      <th>4</th>\n",
              "      <td>S5</td>\n",
              "      <td>Адамс</td>\n",
              "      <td>30</td>\n",
              "      <td>Афины</td>\n",
              "    </tr>\n",
              "  </tbody>\n",
              "</table>\n",
              "</div>"
            ],
            "text/plain": [
              "  Номер_поставщика Фамилия  Рейтинг   Город\n",
              "0               S1    Смит       20  Лондон\n",
              "1               S2   Джонс       10   Париж\n",
              "2               S3   Блейк       30   Париж\n",
              "3               S4   Кларк       20  Лондон\n",
              "4               S5   Адамс       30   Афины"
            ]
          },
          "metadata": {
            "tags": []
          },
          "execution_count": 5
        }
      ]
    },
    {
      "cell_type": "code",
      "metadata": {
        "id": "s6MhnprRFJAU",
        "colab_type": "code",
        "outputId": "be93d746-f14b-4faf-fa75-350a9e86b392",
        "colab": {
          "base_uri": "https://localhost:8080/",
          "height": 235
        }
      },
      "source": [
        "p"
      ],
      "execution_count": 6,
      "outputs": [
        {
          "output_type": "execute_result",
          "data": {
            "text/html": [
              "<div>\n",
              "<style scoped>\n",
              "    .dataframe tbody tr th:only-of-type {\n",
              "        vertical-align: middle;\n",
              "    }\n",
              "\n",
              "    .dataframe tbody tr th {\n",
              "        vertical-align: top;\n",
              "    }\n",
              "\n",
              "    .dataframe thead th {\n",
              "        text-align: right;\n",
              "    }\n",
              "</style>\n",
              "<table border=\"1\" class=\"dataframe\">\n",
              "  <thead>\n",
              "    <tr style=\"text-align: right;\">\n",
              "      <th></th>\n",
              "      <th>Номер_детали</th>\n",
              "      <th>Название</th>\n",
              "      <th>Цвет</th>\n",
              "      <th>Вес</th>\n",
              "      <th>Город</th>\n",
              "    </tr>\n",
              "  </thead>\n",
              "  <tbody>\n",
              "    <tr>\n",
              "      <th>0</th>\n",
              "      <td>P1</td>\n",
              "      <td>Гайка</td>\n",
              "      <td>Красный</td>\n",
              "      <td>12</td>\n",
              "      <td>Лондон</td>\n",
              "    </tr>\n",
              "    <tr>\n",
              "      <th>1</th>\n",
              "      <td>P2</td>\n",
              "      <td>Болт</td>\n",
              "      <td>Зеленый</td>\n",
              "      <td>17</td>\n",
              "      <td>Париж</td>\n",
              "    </tr>\n",
              "    <tr>\n",
              "      <th>2</th>\n",
              "      <td>P3</td>\n",
              "      <td>Винт</td>\n",
              "      <td>Голубой</td>\n",
              "      <td>17</td>\n",
              "      <td>Рим</td>\n",
              "    </tr>\n",
              "    <tr>\n",
              "      <th>3</th>\n",
              "      <td>P4</td>\n",
              "      <td>Винт</td>\n",
              "      <td>Красный</td>\n",
              "      <td>14</td>\n",
              "      <td>Лондон</td>\n",
              "    </tr>\n",
              "    <tr>\n",
              "      <th>4</th>\n",
              "      <td>P5</td>\n",
              "      <td>Кулачок</td>\n",
              "      <td>Голубой</td>\n",
              "      <td>12</td>\n",
              "      <td>Париж</td>\n",
              "    </tr>\n",
              "    <tr>\n",
              "      <th>5</th>\n",
              "      <td>P6</td>\n",
              "      <td>Блюм</td>\n",
              "      <td>Красный</td>\n",
              "      <td>19</td>\n",
              "      <td>Лондон</td>\n",
              "    </tr>\n",
              "  </tbody>\n",
              "</table>\n",
              "</div>"
            ],
            "text/plain": [
              "  Номер_детали Название     Цвет  Вес   Город\n",
              "0           P1    Гайка  Красный   12  Лондон\n",
              "1           P2     Болт  Зеленый   17   Париж\n",
              "2           P3     Винт  Голубой   17     Рим\n",
              "3           P4     Винт  Красный   14  Лондон\n",
              "4           P5  Кулачок  Голубой   12   Париж\n",
              "5           P6     Блюм  Красный   19  Лондон"
            ]
          },
          "metadata": {
            "tags": []
          },
          "execution_count": 6
        }
      ]
    },
    {
      "cell_type": "code",
      "metadata": {
        "id": "CmU928CiFJJT",
        "colab_type": "code",
        "outputId": "86cf5e41-fdcc-4fb7-beb3-837633b6dd03",
        "colab": {
          "base_uri": "https://localhost:8080/",
          "height": 266
        }
      },
      "source": [
        "j"
      ],
      "execution_count": 7,
      "outputs": [
        {
          "output_type": "execute_result",
          "data": {
            "text/html": [
              "<div>\n",
              "<style scoped>\n",
              "    .dataframe tbody tr th:only-of-type {\n",
              "        vertical-align: middle;\n",
              "    }\n",
              "\n",
              "    .dataframe tbody tr th {\n",
              "        vertical-align: top;\n",
              "    }\n",
              "\n",
              "    .dataframe thead th {\n",
              "        text-align: right;\n",
              "    }\n",
              "</style>\n",
              "<table border=\"1\" class=\"dataframe\">\n",
              "  <thead>\n",
              "    <tr style=\"text-align: right;\">\n",
              "      <th></th>\n",
              "      <th>Номер_изделия</th>\n",
              "      <th>Название</th>\n",
              "      <th>Город</th>\n",
              "    </tr>\n",
              "  </thead>\n",
              "  <tbody>\n",
              "    <tr>\n",
              "      <th>0</th>\n",
              "      <td>J1</td>\n",
              "      <td>Жесткий диск</td>\n",
              "      <td>Париж</td>\n",
              "    </tr>\n",
              "    <tr>\n",
              "      <th>1</th>\n",
              "      <td>J2</td>\n",
              "      <td>Перфоратор</td>\n",
              "      <td>Рим</td>\n",
              "    </tr>\n",
              "    <tr>\n",
              "      <th>2</th>\n",
              "      <td>J3</td>\n",
              "      <td>Считыватель</td>\n",
              "      <td>Афины</td>\n",
              "    </tr>\n",
              "    <tr>\n",
              "      <th>3</th>\n",
              "      <td>J4</td>\n",
              "      <td>Принтер</td>\n",
              "      <td>Афины</td>\n",
              "    </tr>\n",
              "    <tr>\n",
              "      <th>4</th>\n",
              "      <td>J5</td>\n",
              "      <td>Флоппи-диск</td>\n",
              "      <td>Лондон</td>\n",
              "    </tr>\n",
              "    <tr>\n",
              "      <th>5</th>\n",
              "      <td>J6</td>\n",
              "      <td>Терминал</td>\n",
              "      <td>Осло</td>\n",
              "    </tr>\n",
              "    <tr>\n",
              "      <th>6</th>\n",
              "      <td>J7</td>\n",
              "      <td>Лента</td>\n",
              "      <td>Лондон</td>\n",
              "    </tr>\n",
              "  </tbody>\n",
              "</table>\n",
              "</div>"
            ],
            "text/plain": [
              "  Номер_изделия      Название   Город\n",
              "0            J1  Жесткий диск   Париж\n",
              "1            J2    Перфоратор     Рим\n",
              "2            J3   Считыватель   Афины\n",
              "3            J4       Принтер   Афины\n",
              "4            J5   Флоппи-диск  Лондон\n",
              "5            J6      Терминал    Осло\n",
              "6            J7         Лента  Лондон"
            ]
          },
          "metadata": {
            "tags": []
          },
          "execution_count": 7
        }
      ]
    },
    {
      "cell_type": "code",
      "metadata": {
        "id": "0-E7rMB_FJie",
        "colab_type": "code",
        "outputId": "3370cfaa-7104-4af8-ebf0-a3e61857abcf",
        "colab": {
          "base_uri": "https://localhost:8080/",
          "height": 793
        }
      },
      "source": [
        "spj"
      ],
      "execution_count": 8,
      "outputs": [
        {
          "output_type": "execute_result",
          "data": {
            "text/html": [
              "<div>\n",
              "<style scoped>\n",
              "    .dataframe tbody tr th:only-of-type {\n",
              "        vertical-align: middle;\n",
              "    }\n",
              "\n",
              "    .dataframe tbody tr th {\n",
              "        vertical-align: top;\n",
              "    }\n",
              "\n",
              "    .dataframe thead th {\n",
              "        text-align: right;\n",
              "    }\n",
              "</style>\n",
              "<table border=\"1\" class=\"dataframe\">\n",
              "  <thead>\n",
              "    <tr style=\"text-align: right;\">\n",
              "      <th></th>\n",
              "      <th>Номер_поставщика</th>\n",
              "      <th>Номер_детали</th>\n",
              "      <th>Номер_изделия</th>\n",
              "      <th>Количество</th>\n",
              "    </tr>\n",
              "  </thead>\n",
              "  <tbody>\n",
              "    <tr>\n",
              "      <th>0</th>\n",
              "      <td>S1</td>\n",
              "      <td>P1</td>\n",
              "      <td>J1</td>\n",
              "      <td>200</td>\n",
              "    </tr>\n",
              "    <tr>\n",
              "      <th>1</th>\n",
              "      <td>S1</td>\n",
              "      <td>P1</td>\n",
              "      <td>J4</td>\n",
              "      <td>700</td>\n",
              "    </tr>\n",
              "    <tr>\n",
              "      <th>2</th>\n",
              "      <td>S2</td>\n",
              "      <td>P3</td>\n",
              "      <td>J1</td>\n",
              "      <td>400</td>\n",
              "    </tr>\n",
              "    <tr>\n",
              "      <th>3</th>\n",
              "      <td>S2</td>\n",
              "      <td>P3</td>\n",
              "      <td>J2</td>\n",
              "      <td>200</td>\n",
              "    </tr>\n",
              "    <tr>\n",
              "      <th>4</th>\n",
              "      <td>S2</td>\n",
              "      <td>P3</td>\n",
              "      <td>J3</td>\n",
              "      <td>200</td>\n",
              "    </tr>\n",
              "    <tr>\n",
              "      <th>5</th>\n",
              "      <td>S2</td>\n",
              "      <td>P3</td>\n",
              "      <td>J4</td>\n",
              "      <td>500</td>\n",
              "    </tr>\n",
              "    <tr>\n",
              "      <th>6</th>\n",
              "      <td>S2</td>\n",
              "      <td>P3</td>\n",
              "      <td>J5</td>\n",
              "      <td>600</td>\n",
              "    </tr>\n",
              "    <tr>\n",
              "      <th>7</th>\n",
              "      <td>S2</td>\n",
              "      <td>P3</td>\n",
              "      <td>J6</td>\n",
              "      <td>400</td>\n",
              "    </tr>\n",
              "    <tr>\n",
              "      <th>8</th>\n",
              "      <td>S2</td>\n",
              "      <td>P3</td>\n",
              "      <td>J7</td>\n",
              "      <td>800</td>\n",
              "    </tr>\n",
              "    <tr>\n",
              "      <th>9</th>\n",
              "      <td>S2</td>\n",
              "      <td>P5</td>\n",
              "      <td>J2</td>\n",
              "      <td>100</td>\n",
              "    </tr>\n",
              "    <tr>\n",
              "      <th>10</th>\n",
              "      <td>S3</td>\n",
              "      <td>P1</td>\n",
              "      <td>J1</td>\n",
              "      <td>200</td>\n",
              "    </tr>\n",
              "    <tr>\n",
              "      <th>11</th>\n",
              "      <td>S3</td>\n",
              "      <td>P4</td>\n",
              "      <td>J2</td>\n",
              "      <td>500</td>\n",
              "    </tr>\n",
              "    <tr>\n",
              "      <th>12</th>\n",
              "      <td>S4</td>\n",
              "      <td>P6</td>\n",
              "      <td>J3</td>\n",
              "      <td>300</td>\n",
              "    </tr>\n",
              "    <tr>\n",
              "      <th>13</th>\n",
              "      <td>S4</td>\n",
              "      <td>P6</td>\n",
              "      <td>J7</td>\n",
              "      <td>300</td>\n",
              "    </tr>\n",
              "    <tr>\n",
              "      <th>14</th>\n",
              "      <td>S5</td>\n",
              "      <td>P2</td>\n",
              "      <td>J2</td>\n",
              "      <td>200</td>\n",
              "    </tr>\n",
              "    <tr>\n",
              "      <th>15</th>\n",
              "      <td>S5</td>\n",
              "      <td>P2</td>\n",
              "      <td>J4</td>\n",
              "      <td>100</td>\n",
              "    </tr>\n",
              "    <tr>\n",
              "      <th>16</th>\n",
              "      <td>S5</td>\n",
              "      <td>P5</td>\n",
              "      <td>J5</td>\n",
              "      <td>500</td>\n",
              "    </tr>\n",
              "    <tr>\n",
              "      <th>17</th>\n",
              "      <td>S5</td>\n",
              "      <td>P5</td>\n",
              "      <td>J7</td>\n",
              "      <td>100</td>\n",
              "    </tr>\n",
              "    <tr>\n",
              "      <th>18</th>\n",
              "      <td>S5</td>\n",
              "      <td>P6</td>\n",
              "      <td>J2</td>\n",
              "      <td>200</td>\n",
              "    </tr>\n",
              "    <tr>\n",
              "      <th>19</th>\n",
              "      <td>S5</td>\n",
              "      <td>P1</td>\n",
              "      <td>J4</td>\n",
              "      <td>100</td>\n",
              "    </tr>\n",
              "    <tr>\n",
              "      <th>20</th>\n",
              "      <td>S5</td>\n",
              "      <td>P3</td>\n",
              "      <td>J4</td>\n",
              "      <td>200</td>\n",
              "    </tr>\n",
              "    <tr>\n",
              "      <th>21</th>\n",
              "      <td>S5</td>\n",
              "      <td>P4</td>\n",
              "      <td>J4</td>\n",
              "      <td>800</td>\n",
              "    </tr>\n",
              "    <tr>\n",
              "      <th>22</th>\n",
              "      <td>S5</td>\n",
              "      <td>P5</td>\n",
              "      <td>J4</td>\n",
              "      <td>400</td>\n",
              "    </tr>\n",
              "    <tr>\n",
              "      <th>23</th>\n",
              "      <td>S5</td>\n",
              "      <td>P6</td>\n",
              "      <td>J4</td>\n",
              "      <td>500</td>\n",
              "    </tr>\n",
              "  </tbody>\n",
              "</table>\n",
              "</div>"
            ],
            "text/plain": [
              "   Номер_поставщика Номер_детали Номер_изделия  Количество\n",
              "0                S1           P1            J1         200\n",
              "1                S1           P1            J4         700\n",
              "2                S2           P3            J1         400\n",
              "3                S2           P3            J2         200\n",
              "4                S2           P3            J3         200\n",
              "5                S2           P3            J4         500\n",
              "6                S2           P3            J5         600\n",
              "7                S2           P3            J6         400\n",
              "8                S2           P3            J7         800\n",
              "9                S2           P5            J2         100\n",
              "10               S3           P1            J1         200\n",
              "11               S3           P4            J2         500\n",
              "12               S4           P6            J3         300\n",
              "13               S4           P6            J7         300\n",
              "14               S5           P2            J2         200\n",
              "15               S5           P2            J4         100\n",
              "16               S5           P5            J5         500\n",
              "17               S5           P5            J7         100\n",
              "18               S5           P6            J2         200\n",
              "19               S5           P1            J4         100\n",
              "20               S5           P3            J4         200\n",
              "21               S5           P4            J4         800\n",
              "22               S5           P5            J4         400\n",
              "23               S5           P6            J4         500"
            ]
          },
          "metadata": {
            "tags": []
          },
          "execution_count": 8
        }
      ]
    },
    {
      "cell_type": "markdown",
      "metadata": {
        "id": "6ZQUKxJWq-VA",
        "colab_type": "text"
      },
      "source": [
        "Данные в таком виде нам подходят.\n",
        "\n",
        "Теперь разберемся с аттрибутом fmt. Такой словарь нужен для:\n",
        "\n",
        "*   вывода названий полей;\n",
        "*   правильного формата вывода значений полей.\n",
        "\n",
        "Ключи в словаре это названия полей, а значения это bool. True, если значение поля обернуто двойными кавычками, False в противном случае.\n",
        "\n"
      ]
    },
    {
      "cell_type": "code",
      "metadata": {
        "id": "-_BjmMy8am8Y",
        "colab_type": "code",
        "colab": {}
      },
      "source": [
        "s_fmt = {\"Номер_поставщика\": True, \"Фамилия\": True, \"Рейтинг\": False, \"Город\": True}\n",
        "p_fmt = {\"Номер_детали\": True, \"Название\": True, \"Цвет\": True, \"Вес\": False, \"Город\": True}\n",
        "j_fmt = {\"Номер_изделия\": True, \"Название\": True, \"Город\": True}\n",
        "spj_fmt = {\"Номер_поставщика\": True, \"Номер_детали\": True, \"Номер_изделия\": True, \"Количество\": False}"
      ],
      "execution_count": 0,
      "outputs": []
    },
    {
      "cell_type": "markdown",
      "metadata": {
        "id": "7-cBYja1r3UW",
        "colab_type": "text"
      },
      "source": [
        "Использование функции:"
      ]
    },
    {
      "cell_type": "code",
      "metadata": {
        "id": "wvoWf3jFcRjY",
        "colab_type": "code",
        "outputId": "c48c8a50-00e4-4844-a37b-3a64f581efd0",
        "colab": {
          "base_uri": "https://localhost:8080/",
          "height": 102
        }
      },
      "source": [
        "xlsx_to_insert_queries(\"s.xlsx\", \"S\", s_fmt)"
      ],
      "execution_count": 10,
      "outputs": [
        {
          "output_type": "stream",
          "text": [
            "insert into S (Номер_поставщика, Фамилия, Рейтинг, Город) values (\"S1\", \"Смит\", 20, \"Лондон\");\n",
            "insert into S (Номер_поставщика, Фамилия, Рейтинг, Город) values (\"S2\", \"Джонс\", 10, \"Париж\");\n",
            "insert into S (Номер_поставщика, Фамилия, Рейтинг, Город) values (\"S3\", \"Блейк\", 30, \"Париж\");\n",
            "insert into S (Номер_поставщика, Фамилия, Рейтинг, Город) values (\"S4\", \"Кларк\", 20, \"Лондон\");\n",
            "insert into S (Номер_поставщика, Фамилия, Рейтинг, Город) values (\"S5\", \"Адамс\", 30, \"Афины\");\n"
          ],
          "name": "stdout"
        }
      ]
    },
    {
      "cell_type": "code",
      "metadata": {
        "id": "d5VAHeXUrEeG",
        "colab_type": "code",
        "outputId": "c3ea5a83-8319-486d-ff5b-25351cbd7019",
        "colab": {
          "base_uri": "https://localhost:8080/",
          "height": 119
        }
      },
      "source": [
        "xlsx_to_insert_queries(\"p.xlsx\", \"P\", p_fmt)"
      ],
      "execution_count": 11,
      "outputs": [
        {
          "output_type": "stream",
          "text": [
            "insert into P (Номер_детали, Название, Цвет, Вес, Город) values (\"P1\", \"Гайка\", \"Красный\", 12, \"Лондон\");\n",
            "insert into P (Номер_детали, Название, Цвет, Вес, Город) values (\"P2\", \"Болт\", \"Зеленый\", 17, \"Париж\");\n",
            "insert into P (Номер_детали, Название, Цвет, Вес, Город) values (\"P3\", \"Винт\", \"Голубой\", 17, \"Рим\");\n",
            "insert into P (Номер_детали, Название, Цвет, Вес, Город) values (\"P4\", \"Винт\", \"Красный\", 14, \"Лондон\");\n",
            "insert into P (Номер_детали, Название, Цвет, Вес, Город) values (\"P5\", \"Кулачок\", \"Голубой\", 12, \"Париж\");\n",
            "insert into P (Номер_детали, Название, Цвет, Вес, Город) values (\"P6\", \"Блюм\", \"Красный\", 19, \"Лондон\");\n"
          ],
          "name": "stdout"
        }
      ]
    },
    {
      "cell_type": "code",
      "metadata": {
        "id": "OTBg5pKdG_Bi",
        "colab_type": "code",
        "outputId": "b92f628f-564e-4f6b-af56-3711baee3677",
        "colab": {
          "base_uri": "https://localhost:8080/",
          "height": 136
        }
      },
      "source": [
        "xlsx_to_insert_queries(\"j.xlsx\", \"J\", j_fmt)"
      ],
      "execution_count": 12,
      "outputs": [
        {
          "output_type": "stream",
          "text": [
            "insert into J (Номер_изделия, Название, Город) values (\"J1\", \"Жесткий диск\", \"Париж\");\n",
            "insert into J (Номер_изделия, Название, Город) values (\"J2\", \"Перфоратор\", \"Рим\");\n",
            "insert into J (Номер_изделия, Название, Город) values (\"J3\", \"Считыватель\", \"Афины\");\n",
            "insert into J (Номер_изделия, Название, Город) values (\"J4\", \"Принтер\", \"Афины\");\n",
            "insert into J (Номер_изделия, Название, Город) values (\"J5\", \"Флоппи-диск\", \"Лондон\");\n",
            "insert into J (Номер_изделия, Название, Город) values (\"J6\", \"Терминал\", \"Осло\");\n",
            "insert into J (Номер_изделия, Название, Город) values (\"J7\", \"Лента\", \"Лондон\");\n"
          ],
          "name": "stdout"
        }
      ]
    },
    {
      "cell_type": "code",
      "metadata": {
        "id": "0cZEDW1UHonS",
        "colab_type": "code",
        "outputId": "58aea720-e8cd-4c08-d9f1-68d265a90f4c",
        "colab": {
          "base_uri": "https://localhost:8080/",
          "height": 425
        }
      },
      "source": [
        "xlsx_to_insert_queries(\"spj.xlsx\", \"SPJ\", spj_fmt)"
      ],
      "execution_count": 13,
      "outputs": [
        {
          "output_type": "stream",
          "text": [
            "insert into SPJ (Номер_поставщика, Номер_детали, Номер_изделия, Количество) values (\"S1\", \"P1\", \"J1\", 200);\n",
            "insert into SPJ (Номер_поставщика, Номер_детали, Номер_изделия, Количество) values (\"S1\", \"P1\", \"J4\", 700);\n",
            "insert into SPJ (Номер_поставщика, Номер_детали, Номер_изделия, Количество) values (\"S2\", \"P3\", \"J1\", 400);\n",
            "insert into SPJ (Номер_поставщика, Номер_детали, Номер_изделия, Количество) values (\"S2\", \"P3\", \"J2\", 200);\n",
            "insert into SPJ (Номер_поставщика, Номер_детали, Номер_изделия, Количество) values (\"S2\", \"P3\", \"J3\", 200);\n",
            "insert into SPJ (Номер_поставщика, Номер_детали, Номер_изделия, Количество) values (\"S2\", \"P3\", \"J4\", 500);\n",
            "insert into SPJ (Номер_поставщика, Номер_детали, Номер_изделия, Количество) values (\"S2\", \"P3\", \"J5\", 600);\n",
            "insert into SPJ (Номер_поставщика, Номер_детали, Номер_изделия, Количество) values (\"S2\", \"P3\", \"J6\", 400);\n",
            "insert into SPJ (Номер_поставщика, Номер_детали, Номер_изделия, Количество) values (\"S2\", \"P3\", \"J7\", 800);\n",
            "insert into SPJ (Номер_поставщика, Номер_детали, Номер_изделия, Количество) values (\"S2\", \"P5\", \"J2\", 100);\n",
            "insert into SPJ (Номер_поставщика, Номер_детали, Номер_изделия, Количество) values (\"S3\", \"P1\", \"J1\", 200);\n",
            "insert into SPJ (Номер_поставщика, Номер_детали, Номер_изделия, Количество) values (\"S3\", \"P4\", \"J2\", 500);\n",
            "insert into SPJ (Номер_поставщика, Номер_детали, Номер_изделия, Количество) values (\"S4\", \"P6\", \"J3\", 300);\n",
            "insert into SPJ (Номер_поставщика, Номер_детали, Номер_изделия, Количество) values (\"S4\", \"P6\", \"J7\", 300);\n",
            "insert into SPJ (Номер_поставщика, Номер_детали, Номер_изделия, Количество) values (\"S5\", \"P2\", \"J2\", 200);\n",
            "insert into SPJ (Номер_поставщика, Номер_детали, Номер_изделия, Количество) values (\"S5\", \"P2\", \"J4\", 100);\n",
            "insert into SPJ (Номер_поставщика, Номер_детали, Номер_изделия, Количество) values (\"S5\", \"P5\", \"J5\", 500);\n",
            "insert into SPJ (Номер_поставщика, Номер_детали, Номер_изделия, Количество) values (\"S5\", \"P5\", \"J7\", 100);\n",
            "insert into SPJ (Номер_поставщика, Номер_детали, Номер_изделия, Количество) values (\"S5\", \"P6\", \"J2\", 200);\n",
            "insert into SPJ (Номер_поставщика, Номер_детали, Номер_изделия, Количество) values (\"S5\", \"P1\", \"J4\", 100);\n",
            "insert into SPJ (Номер_поставщика, Номер_детали, Номер_изделия, Количество) values (\"S5\", \"P3\", \"J4\", 200);\n",
            "insert into SPJ (Номер_поставщика, Номер_детали, Номер_изделия, Количество) values (\"S5\", \"P4\", \"J4\", 800);\n",
            "insert into SPJ (Номер_поставщика, Номер_детали, Номер_изделия, Количество) values (\"S5\", \"P5\", \"J4\", 400);\n",
            "insert into SPJ (Номер_поставщика, Номер_детали, Номер_изделия, Количество) values (\"S5\", \"P6\", \"J4\", 500);\n"
          ],
          "name": "stdout"
        }
      ]
    },
    {
      "cell_type": "code",
      "metadata": {
        "id": "7SleiHJfIphg",
        "colab_type": "code",
        "colab": {}
      },
      "source": [
        ""
      ],
      "execution_count": 0,
      "outputs": []
    }
  ]
}